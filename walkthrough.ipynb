{
 "cells": [
  {
   "cell_type": "markdown",
   "metadata": {},
   "source": [
    "# LibEMG MEC24 Walkthrough\n",
    "\n",
    "This notebook was created to provide a quick, interactive walkthrough of some of the key components in `LibEMG`. We step through the process of loading in data, filtering, feature extraction, and model fitting."
   ]
  },
  {
   "cell_type": "code",
   "execution_count": 52,
   "metadata": {},
   "outputs": [],
   "source": [
    "# Constants\n",
    "WINDOW_SIZE = 200\n",
    "WINDOW_INCREMENT = 50"
   ]
  },
  {
   "cell_type": "markdown",
   "metadata": {},
   "source": [
    "## Datasets\n",
    "\n",
    "`LibEMG` provides helper classes for multiple datasets, including widely-used datasets, such as Nina Pro, and sample datasets provided with `LibEMG`. The code snippet below shows an example of how we would read in the `OneSubjectMyoDataset`, which is a sample dataset provided by `LibEMG`."
   ]
  },
  {
   "cell_type": "code",
   "execution_count": 1,
   "metadata": {},
   "outputs": [
    {
     "name": "stderr",
     "output_type": "stream",
     "text": [
      "Cloning into './OneSubjectMyoDataset'...\n"
     ]
    },
    {
     "name": "stdout",
     "output_type": "stream",
     "text": [
      "Dataset downloaded.\n"
     ]
    }
   ],
   "source": [
    "from libemg.datasets import OneSubjectMyoDataset\n",
    "\n",
    "dataset = OneSubjectMyoDataset()    # will automatically download a sample dataset\n",
    "print('Dataset downloaded.')"
   ]
  },
  {
   "cell_type": "markdown",
   "metadata": {},
   "source": [
    "## Parsing\n",
    "\n",
    "`LibEMG` offers a data parsing interface to read in data and grab metadata from files based on parameters you provide. This example uses a `Dataset` that does this work for us, but feel free to look in the `.prepare_data()` method to explore the parsing interface.\n",
    "\n",
    "In this section we explore a core class in `LibEMG`: the `OfflineDataHandler`. This class is responsible for managing signal data, metadata, and parsing. We step through some of its key functionality and highlight how data are stored and passed through `LibEMG`."
   ]
  },
  {
   "cell_type": "code",
   "execution_count": 19,
   "metadata": {},
   "outputs": [
    {
     "name": "stdout",
     "output_type": "stream",
     "text": [
      "60 data files fetched out of 61 files.\n",
      "Number of files: 60\n",
      "EMG data shape (samples x channels): (604, 8)\n"
     ]
    }
   ],
   "source": [
    "# Parse\n",
    "odh = dataset.prepare_data()    # look inside this method to explore the parsing interface\n",
    "print(f\"Number of files: {len(odh.data)}\")\n",
    "print(f\"EMG data shape (samples x channels): {odh.data[0].shape}\")"
   ]
  },
  {
   "cell_type": "code",
   "execution_count": 21,
   "metadata": {},
   "outputs": [
    {
     "name": "stdout",
     "output_type": "stream",
     "text": [
      "Single rep metadata: [1 1 1 1 1 1 1 1 1 1 1 1 1 1 1 1 1 1 1 1 1 1 1 1 1 1 1 1 1 1 1 1 1 1 1 1 1\n",
      " 1 1 1 1 1 1 1 1 1 1 1 1 1]\n"
     ]
    }
   ],
   "source": [
    "print(f\"Single rep metadata: {odh.reps[0][:50].ravel()}\")   # each type of metadata is stored as a (samples x M) array (M depends on the metadata)"
   ]
  },
  {
   "cell_type": "code",
   "execution_count": 22,
   "metadata": {},
   "outputs": [
    {
     "name": "stdout",
     "output_type": "stream",
     "text": [
      "Sets metadata: [4, 4, 4, 4, 4, 4, 4, 4, 4, 4, 1, 1, 1, 1, 1, 1, 1, 1, 1, 1, 2, 2, 2, 2, 2, 2, 2, 2, 2, 2, 3, 3, 3, 3, 3, 3, 3, 3, 3, 3, 0, 0, 0, 0, 0, 0, 0, 0, 0, 0, 5, 5, 5, 5, 5, 5, 5, 5, 5, 5]\n",
      "Reps metadata: [1, 0, 1, 1, 1, 0, 0, 1, 0, 0, 1, 0, 1, 1, 1, 0, 0, 1, 0, 0, 1, 0, 1, 1, 1, 0, 0, 1, 0, 0, 1, 0, 1, 1, 1, 0, 0, 1, 0, 0, 1, 0, 1, 1, 1, 0, 0, 1, 0, 0, 1, 0, 1, 1, 1, 0, 0, 1, 0, 0]\n"
     ]
    }
   ],
   "source": [
    "print(f\"Sets metadata: {[set[0, 0] for set in odh.sets]}\")\n",
    "print(f\"Reps metadata: {[rep[0, 0] for rep in odh.reps]}\")\n"
   ]
  },
  {
   "cell_type": "code",
   "execution_count": 49,
   "metadata": {},
   "outputs": [
    {
     "name": "stdout",
     "output_type": "stream",
     "text": [
      "Number of training files: 20\n",
      "Number of test files: 10\n"
     ]
    }
   ],
   "source": [
    "# Split based on metadata\n",
    "train_odh = odh.isolate_data('sets', [0, 1])\n",
    "test_odh = odh.isolate_data('sets', [3])\n",
    "print(f\"Number of training files: {len(train_odh.data)}\")\n",
    "print(f\"Number of test files: {len(test_odh.data)}\")"
   ]
  },
  {
   "cell_type": "code",
   "execution_count": 51,
   "metadata": {},
   "outputs": [
    {
     "name": "stdout",
     "output_type": "stream",
     "text": [
      "Number of training files: 30\n"
     ]
    }
   ],
   "source": [
    "# You can also add OfflineDataHandler instances together\n",
    "train_test_odh = train_odh + test_odh\n",
    "print(f\"Number of training files: {len(train_test_odh.data)}\")"
   ]
  },
  {
   "cell_type": "code",
   "execution_count": 29,
   "metadata": {},
   "outputs": [
    {
     "name": "stdout",
     "output_type": "stream",
     "text": [
      "EMG data shape (samples x channels): (604, 3)\n"
     ]
    }
   ],
   "source": [
    "# Isolating by channels\n",
    "channels_odh = odh.isolate_channels([0, 3, 7])\n",
    "print(f\"EMG data shape (samples x channels): {channels_odh.data[0].shape}\")"
   ]
  },
  {
   "cell_type": "code",
   "execution_count": 58,
   "metadata": {},
   "outputs": [
    {
     "name": "stdout",
     "output_type": "stream",
     "text": [
      "Windows shape (windows x channels x samples): (539, 8, 200)\n",
      "Metadata shape (windows): (539,)\n",
      "Example classes (windows): [1 1 1 1 1 1 1 1 1 4 4 4 4 4 4 4 4 4 0 0 0 0 0 0 0 0 0 2 2 2]\n"
     ]
    }
   ],
   "source": [
    "# Windowing\n",
    "windows, metadata = odh.parse_windows(WINDOW_SIZE, WINDOW_INCREMENT)    # metadata grabbed based on mode by default, but can be customized with metadata_operations parameter\n",
    "labels = metadata['classes']\n",
    "print(f\"Windows shape (windows x channels x samples): {windows.shape}\")\n",
    "print(f\"Metadata shape (windows): {metadata['sets'].shape}\")    # metadata value for each window\n",
    "print(f\"Example classes (windows): {metadata['classes'][:30]}\")"
   ]
  },
  {
   "cell_type": "markdown",
   "metadata": {},
   "source": [
    "## Filtering"
   ]
  },
  {
   "cell_type": "code",
   "execution_count": null,
   "metadata": {},
   "outputs": [],
   "source": []
  },
  {
   "cell_type": "markdown",
   "metadata": {},
   "source": [
    "## Feature Extraction"
   ]
  },
  {
   "cell_type": "code",
   "execution_count": null,
   "metadata": {},
   "outputs": [],
   "source": []
  },
  {
   "cell_type": "markdown",
   "metadata": {},
   "source": [
    "## Classification"
   ]
  },
  {
   "cell_type": "code",
   "execution_count": null,
   "metadata": {},
   "outputs": [],
   "source": []
  },
  {
   "cell_type": "markdown",
   "metadata": {},
   "source": [
    "## Regression"
   ]
  },
  {
   "cell_type": "code",
   "execution_count": null,
   "metadata": {},
   "outputs": [],
   "source": []
  },
  {
   "cell_type": "markdown",
   "metadata": {},
   "source": [
    "## Offline Metrics"
   ]
  },
  {
   "cell_type": "code",
   "execution_count": null,
   "metadata": {},
   "outputs": [],
   "source": []
  }
 ],
 "metadata": {
  "kernelspec": {
   "display_name": "libemg",
   "language": "python",
   "name": "python3"
  },
  "language_info": {
   "codemirror_mode": {
    "name": "ipython",
    "version": 3
   },
   "file_extension": ".py",
   "mimetype": "text/x-python",
   "name": "python",
   "nbconvert_exporter": "python",
   "pygments_lexer": "ipython3",
   "version": "3.10.5"
  }
 },
 "nbformat": 4,
 "nbformat_minor": 2
}
